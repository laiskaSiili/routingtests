{
 "cells": [
  {
   "cell_type": "code",
   "execution_count": 258,
   "metadata": {},
   "outputs": [],
   "source": [
    "import numpy as np\n",
    "import matplotlib.pyplot as plt\n",
    "import math\n",
    "\n",
    "ca = 1000\n",
    "ta0 = 10\n",
    "va = range(1, 4000, 100)\n",
    "\n",
    "lim = 3*ca"
   ]
  },
  {
   "cell_type": "code",
   "execution_count": 259,
   "metadata": {},
   "outputs": [],
   "source": [
    "def logistic(k, L, t, ta0 ,va):\n",
    "    return L / (1 + math.exp(-k * (va - t)))"
   ]
  },
  {
   "cell_type": "code",
   "execution_count": 260,
   "metadata": {},
   "outputs": [],
   "source": [
    "alpha = 0.15\n",
    "beta = 4\n",
    "def bpr(ta0, ca, va):\n",
    "    ta = ta0 * (1 + alpha * np.power(va/ca, beta))\n",
    "    return int(ta)\n",
    "\n",
    "def bpr_lim(ta0, ca, va, lim):\n",
    "    t_lim = bpr(ta0, ca, lim)\n",
    "    l = logistic(0.05, 1, lim, ta0, va)\n",
    "    ta = ta0 + ta0 * alpha * np.power(va/ca, beta) - l * (t_lim + alpha * np.power(va/ca, beta))\n",
    "    return int(ta)"
   ]
  },
  {
   "cell_type": "code",
   "execution_count": 261,
   "metadata": {},
   "outputs": [],
   "source": [
    "x = va\n",
    "y = [bpr(ta0, ca, _x) for _x in x]\n",
    "y_lim = [bpr_lim(ta0, ca, _x, lim) for _x in x]\n",
    "y_logistic = [bpr(ta0, ca, lim) - logistic(0.05, bpr(ta0, ca, lim), lim, ta0, _x) for _x in x]"
   ]
  },
  {
   "cell_type": "code",
   "execution_count": 262,
   "metadata": {},
   "outputs": [
    {
     "data": {
      "image/png": "[encoded data removed]",
      "text/plain": [
       "<Figure size 432x288 with 1 Axes>"
      ]
     },
     "metadata": {
      "needs_background": "light"
     },
     "output_type": "display_data"
    }
   ],
   "source": [
    "plt.plot(x, y, color='b')\n",
    "plt.plot(x, y_lim, color='r')\n",
    "plt.plot(x, y_logistic, color='k')\n",
    "plt.axhline(y=bpr(ta0, ca, lim), color='r', linestyle='--')\n",
    "plt.show()"
   ]
  },
  {
   "cell_type": "code",
   "execution_count": null,
   "metadata": {},
   "outputs": [],
   "source": []
  },
  {
   "cell_type": "code",
   "execution_count": null,
   "metadata": {},
   "outputs": [],
   "source": []
  }
 ],
 "metadata": {
  "kernelspec": {
   "display_name": "Python3 (gps)",
   "language": "python",
   "name": "gps"
  },
  "language_info": {
   "codemirror_mode": {
    "name": "ipython",
    "version": 3
   },
   "file_extension": ".py",
   "mimetype": "text/x-python",
   "name": "python",
   "nbconvert_exporter": "python",
   "pygments_lexer": "ipython3",
   "version": "3.7.3"
  }
 },
 "nbformat": 4,
 "nbformat_minor": 2
}
