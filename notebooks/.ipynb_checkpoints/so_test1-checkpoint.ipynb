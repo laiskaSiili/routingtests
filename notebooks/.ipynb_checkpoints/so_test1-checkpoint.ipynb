{
 "cells": [
  {
   "cell_type": "code",
   "execution_count": null,
   "metadata": {},
   "outputs": [],
   "source": [
    "# Append parent directory to python path to find TrivikGPS package\n",
    "import sys, os\n",
    "\n",
    "# insert parent folder into python path and change working directory\n",
    "parent_folder, _ = os.path.split(os.getcwd())\n",
    "sys.path.insert(0, parent_folder)\n",
    "os.chdir(parent_folder)\n",
    "print ('Current working directory: ' + os.getcwd())"
   ]
  },
  {
   "cell_type": "code",
   "execution_count": null,
   "metadata": {
    "scrolled": false
   },
   "outputs": [],
   "source": [
    "from pathlib import Path\n",
    "from TrivikGPS.streetNetworkOsmnxGraph import StreetNetworkOsmnxGraph\n",
    "from TrivikGPS.edgeList import EdgeList\n",
    "#from TrivikGPS.simulation import Simulation\n",
    "\n",
    "print('go')\n",
    "\n",
    "settings = {\n",
    "    'city_country': 'Zurich, Switzerland',\n",
    "    'workspace_path': Path('./Workspace'),\n",
    "    'try_local_first': True,\n",
    "    'load_specific_date': None,\n",
    "}\n",
    "\n",
    "simulation_settings = {\n",
    "    'result_settings': {\n",
    "        'aggregate_functions': [],\n",
    "        'record_drop_info': True,\n",
    "    },\n",
    "    'scenario_params': {\n",
    "        'shape': (1, 4, 8, 12),\n",
    "        'K': (2, 3, 4, 5),\n",
    "        'source_target': ((3910, 2905), (1629, 2195), (4439, 414), (1053, 576), (456, 4022)),\n",
    "        'total_travel': (4000, 8000, 16000, 32000, 64000, 96000),\n",
    "        'drop_interval': (100, 1000, 10000, 100000),\n",
    "        'mode': (0, 1),\n",
    "        'theta': (0.25, 0.33, 0.5),\n",
    "        'algorithm': ('opplus',)\n",
    "    },\n",
    "    'force_fw_calculation': False,\n",
    "    'force_scenarios_calculation': False,\n",
    "}\n",
    "\n",
    "\n",
    "graph = StreetNetworkOsmnxGraph(settings)\n",
    "edgelist = EdgeList(graph)\n",
    "#simulation = Simulation(edgelist, simulation_settings)\n",
    "\n",
    "print('finished')\n"
   ]
  },
  {
   "cell_type": "code",
   "execution_count": null,
   "metadata": {},
   "outputs": [],
   "source": [
    "from pyomo.environ import *\n",
    "import pandas as pd\n",
    "import numpy as np\n",
    "import networkx as nx\n",
    "import osmnx as ox"
   ]
  },
  {
   "cell_type": "code",
   "execution_count": null,
   "metadata": {},
   "outputs": [],
   "source": [
    "osmid_to_id0_dict = edgelist.data['osmid_to_id0_dict']\n",
    "pdg = edgelist.data['pseudo_digraph'].copy()\n",
    "nx.relabel_nodes(pdg, osmid_to_id0_dict, copy=False)\n",
    "ox.utils.config(\n",
    "    imgs_folder=str(edgelist.settings['workspace_path'])\n",
    ")\n",
    "ox.plot.plot_graph(\n",
    "    pdg,\n",
    "    fig_height=40, \n",
    "    fig_width=None,\n",
    "    annotate=True,\n",
    "    node_color='#66ccff', \n",
    "    node_size=15, \n",
    "    edge_color='#999999', \n",
    "    edge_linewidth=1, \n",
    "    edge_alpha=1, \n",
    "    use_geom=True,\n",
    "    show=False,\n",
    "    close=True,\n",
    "    save=True,\n",
    "    file_format='png', \n",
    "    filename='plot', \n",
    "    dpi=300\n",
    ")"
   ]
  },
  {
   "cell_type": "code",
   "execution_count": null,
   "metadata": {},
   "outputs": [],
   "source": [
    "el = edgelist.data['edgelist_cleaned']\n",
    "edges_index = el.index\n",
    "edges = [e for e in edges_index]\n",
    "nodes = [n for n in np.unique(edges)]\n",
    "source_node = 3554\n",
    "target_node = 2928\n",
    "od_flow = 1000\n",
    "\n",
    "alpha = 0.15\n",
    "beta = 4"
   ]
  },
  {
   "cell_type": "code",
   "execution_count": null,
   "metadata": {},
   "outputs": [],
   "source": [
    "outgoing = {n:[] for n in nodes}\n",
    "incoming = {n:[] for n in nodes}\n",
    "for e in range(edges_index.shape[0]):\n",
    "    n1, n2 = edges_index[e]\n",
    "    outgoing[n1].append(n2)\n",
    "    incoming[n2].append(n1)"
   ]
  },
  {
   "cell_type": "code",
   "execution_count": null,
   "metadata": {},
   "outputs": [],
   "source": [
    "# Initial assignment: Assign whole flow to shortest path\n",
    "pdg = edgelist.data['pseudo_digraph']\n",
    "[pdg.add_edge(n1, n2, **{k:v for k,v in el.loc[(n1, n2)].items()}) for n1, n2 in edges if not pdg.has_edge(n1, n2)]\n",
    "shortest_path = nx.shortest_path(pdg, source_node, target_node, weight='ta0')\n",
    "shortest_path_edges = [(n1, n2) for n1, n2 in zip(shortest_path[:-1], shortest_path[1:])]\n",
    "el.loc[shortest_path_edges, ['va']] = od_flow"
   ]
  },
  {
   "cell_type": "code",
   "execution_count": null,
   "metadata": {},
   "outputs": [],
   "source": [
    "# initialize concrete model\n",
    "mo = ConcreteModel()"
   ]
  },
  {
   "cell_type": "code",
   "execution_count": null,
   "metadata": {},
   "outputs": [],
   "source": [
    "# create indices\n",
    "mo.edges = Set(initialize=edges)\n",
    "mo.nodes = Set(initialize=nodes)"
   ]
  },
  {
   "cell_type": "code",
   "execution_count": null,
   "metadata": {},
   "outputs": [],
   "source": [
    "# DECISION VARIABLES\n",
    "mo.va = Var(mo.edges, within=NonNegativeReals, initialize=0)"
   ]
  },
  {
   "cell_type": "code",
   "execution_count": null,
   "metadata": {},
   "outputs": [],
   "source": [
    "# OBJECTIVE\n",
    "mo.obj = Objective(sense=minimize, \n",
    "    expr=sum(mo.va[e] * el.loc[e]['ta0'] * (1 + alpha * np.power(mo.va[e] / el.loc[e]['ca'], beta)) for e in mo.edges)\n",
    ")\n",
    "#mo.obj = Objective(sense=minimize, expr=sum(mo.va[e] * int(el.loc[e].length) for e in mo.edges))"
   ]
  },
  {
   "cell_type": "code",
   "execution_count": null,
   "metadata": {},
   "outputs": [],
   "source": [
    "# CONSTRAINTS\n",
    "# C1: For each node, va of all inflowing links must be equal to va of all outflowing links\n",
    "mo.c_mass_conservation = ConstraintList()\n",
    "for n1 in [n for n in mo.nodes if n != source_node and n != target_node]:\n",
    "    mo.c_mass_conservation.add(\n",
    "        expr=sum(mo.va[(n1, n2)] for n2 in outgoing[n1]) == sum(mo.va[(n2, n1)] for n2 in incoming[n1])\n",
    "    )"
   ]
  },
  {
   "cell_type": "code",
   "execution_count": null,
   "metadata": {},
   "outputs": [],
   "source": [
    "# C2: Sum of all outgoing nodes from source_node must equal od_flow\n",
    "mo.c_source_od_flow = Constraint(expr=sum(mo.va[(source_node, n2)] for n2 in outgoing[source_node]) == od_flow)"
   ]
  },
  {
   "cell_type": "code",
   "execution_count": null,
   "metadata": {},
   "outputs": [],
   "source": [
    "# C3: Sum of all incoming nodes from target_node must equal od_flow\n",
    "mo.c_target_od_flow = Constraint(expr=sum(mo.va[(n2, target_node)] for n2 in incoming[target_node]) == od_flow)"
   ]
  },
  {
   "cell_type": "code",
   "execution_count": null,
   "metadata": {},
   "outputs": [],
   "source": [
    "# write model to file\n",
    "with open(str(settings['workspace_path'] / 'opti_model.txt'), 'w') as f:\n",
    "    mo.pprint(ostream=f)\n",
    "print('-- construction finished --')"
   ]
  },
  {
   "cell_type": "code",
   "execution_count": null,
   "metadata": {},
   "outputs": [],
   "source": [
    "# SOLVE USING CBC\n",
    "print('-- start solver --')\n",
    "solver = SolverFactory('ipopt', executable=r'C:\\solvers\\CoinAll-1.6.0-win64-intel11.1\\bin\\ipopt.exe')\n",
    "solver.solve(mo, tee=True)\n",
    "print('-- solver finished --')"
   ]
  },
  {
   "cell_type": "code",
   "execution_count": null,
   "metadata": {},
   "outputs": [],
   "source": [
    "1+1"
   ]
  },
  {
   "cell_type": "code",
   "execution_count": null,
   "metadata": {},
   "outputs": [],
   "source": []
  }
 ],
 "metadata": {
  "kernelspec": {
   "display_name": "trivik(python3)",
   "language": "python",
   "name": "trivik"
  },
  "language_info": {
   "codemirror_mode": {
    "name": "ipython",
    "version": 3
   },
   "file_extension": ".py",
   "mimetype": "text/x-python",
   "name": "python",
   "nbconvert_exporter": "python",
   "pygments_lexer": "ipython3",
   "version": "3.6.5"
  }
 },
 "nbformat": 4,
 "nbformat_minor": 2
}
