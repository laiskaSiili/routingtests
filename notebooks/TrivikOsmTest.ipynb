{
 "cells": [
  {
   "cell_type": "code",
   "execution_count": 1,
   "metadata": {},
   "outputs": [
    {
     "name": "stdout",
     "output_type": "stream",
     "text": [
      "Current working directory: C:\\Users\\marcf\\Desktop\\routingtests\n"
     ]
    }
   ],
   "source": [
    "# Append parent directory to python path to find ksp_routing package\n",
    "import sys, os\n",
    "\n",
    "# insert parent folder into python path and change working directory\n",
    "parent_folder, _ = os.path.split(os.getcwd())\n",
    "sys.path.insert(0, parent_folder)\n",
    "os.chdir(parent_folder)\n",
    "print ('Current working directory: ' + os.getcwd())"
   ]
  },
  {
   "cell_type": "code",
   "execution_count": 2,
   "metadata": {},
   "outputs": [],
   "source": [
    "# set GDAL_DATA environment variable to point to gdal directory.\n",
    "i = sys.executable\n",
    "epsg_dir = os.path.abspath(os.path.join(i, '..', 'Library', 'share', 'gdal'))\n",
    "os.environ[\"GDAL_DATA\"] = epsg_dir"
   ]
  },
  {
   "cell_type": "code",
   "execution_count": 3,
   "metadata": {
    "scrolled": false
   },
   "outputs": [
    {
     "name": "stdout",
     "output_type": "stream",
     "text": [
      "go\n",
      "INFO: StreetNetworkOsmnxGraph -> __init__: Calling this\n",
      "INFO: StreetNetworkOsmnxGraph -> _run: Calling this\n",
      "INFO: StreetNetworkOsmnxGraph -> _create_workspace_if_not_exists: Calling this\n",
      "WARNING: StreetNetworkOsmnxGraph -> _create_workspace_if_not_exists: Workspace directory not found: Workspace | Creating directory C:\\Users\\marcf\\Desktop\\routingtests\\Workspace\n",
      "INFO: StreetNetworkOsmnxGraph -> _create_workspace_if_not_exists: Successfully created workspace directory Workspace\n",
      "INFO: StreetNetworkOsmnxGraph -> _load_from_osmnx_graphml: Calling this\n",
      "INFO: StreetNetworkOsmnxGraph -> _download_from_osm: Calling this\n",
      "INFO: StreetNetworkOsmnxGraph -> _save_as_osmnx_graphml: Calling this\n",
      "INFO: StreetNetworkOsmnxGraph -> _create_pseudo_digraph: Calling this\n",
      "INFO: StreetNetworkOsmnxGraph -> _create_pseudo_digraph: Finished! A total of 414 multiedges existed.\n",
      "INFO: StreetNetworkOsmnxGraph -> _create_id_lookup_dicts: Calling this\n",
      "INFO: StreetNetworkOsmnxGraph -> _run: Initialization finished\n",
      "INFO: EdgeList -> _run: Calling this\n",
      "INFO: EdgeList -> _create_workspace_if_not_exists: Calling this\n",
      "INFO: EdgeList -> _clean_edgelist: Calling this\n",
      "INFO: EdgeList -> _clean_edgelist: Working on: source, target\n",
      "INFO: EdgeList -> _clean_edgelist: Finished type conversion of source, target.\n",
      "INFO: EdgeList -> _clean_edgelist: Working on: oneway\n",
      "INFO: EdgeList -> _clean_edgelist: Finished, replaced 0 unknown oneway boolean entries. Found and inserted 1028 two-way entries missing counterpart.\n",
      "INFO: EdgeList -> _clean_edgelist: Working on: geometry\n",
      "INFO: EdgeList -> _clean_edgelist: Finished, replaced 87183 entries.\n",
      "INFO: EdgeList -> _clean_edgelist: Working on: length\n",
      "INFO: EdgeList -> _clean_edgelist: Finished, replaced 0 entries.\n",
      "INFO: EdgeList -> _clean_edgelist: Working on: highway\n",
      "INFO: EdgeList -> _clean_edgelist: Finished, replaced 150 entries.\n",
      "INFO: EdgeList -> _clean_edgelist: Working on: maxspeed\n",
      "INFO: EdgeList -> _clean_edgelist: Finished, replaced 130696 entries.\n",
      "INFO: EdgeList -> _clean_edgelist: Working on: lanes\n",
      "INFO: EdgeList -> _clean_edgelist: Finished, replaced 127302 entries.\n",
      "INFO: EdgeList -> _clean_edgelist: All finished, rows with at least one change: 139443 / 141977 (98.215%)\n",
      "INFO: EdgeList -> _add_simulation_fields: Calling this\n",
      "INFO: EdgeList -> _add_simulation_fields: Added freeflow times [s] with min/median/max 0/11/300.\n",
      "        Added capacities [PCE] with min/median/max 700/2900/16100.\n",
      "INFO: EdgeList -> _add_simulation_fields: All finished!\n",
      "finished\n"
     ]
    }
   ],
   "source": [
    "from pathlib import Path\n",
    "from ksp_routing.streetNetworkOsmnxGraph import StreetNetworkOsmnxGraph\n",
    "from ksp_routing.edgeList import EdgeList\n",
    "from ksp_routing.simulation import Simulation\n",
    "\n",
    "print('go')\n",
    "\n",
    "settings = {\n",
    "    'city_country': 'New York, USA',\n",
    "    'workspace_path': Path('./Workspace'),\n",
    "    'try_local_first': True,\n",
    "    'load_specific_date': None,\n",
    "}\n",
    "\n",
    "simulation_settings = {\n",
    "    'result_settings': {\n",
    "        'aggregate_functions': [],\n",
    "        'record_drop_info': True,\n",
    "    },\n",
    "    'scenario_params': {\n",
    "        'shape': (1, 4, 8, 12),\n",
    "        'K': (2, 3, 4, 5),\n",
    "        'source_target': ((3910, 2905), (1629, 2195), (4439, 414), (1053, 576), (456, 4022)),\n",
    "        'total_travel': (4000, 8000, 16000, 32000, 64000, 96000),\n",
    "        'drop_interval': (100, 1000, 10000, 100000),\n",
    "        'mode': (0, 1),\n",
    "        'theta': (0.25, 0.33, 0.5),\n",
    "        'algorithm': ('opplus',)\n",
    "    },\n",
    "    'force_fw_calculation': False,\n",
    "    'force_scenarios_calculation': False,\n",
    "}\n",
    "\n",
    "simulation_settings['scenario_params'].update({\n",
    "    'shape': (4,),\n",
    "    'K': (4, 5),\n",
    "    'source_target': ((1053, 576), (456, 4022)),\n",
    "    'total_travel': (32000, 64000),\n",
    "    'drop_interval': (5000, 15000),\n",
    "    'mode': (0,),\n",
    "    'theta': (0.5,),\n",
    "})\n",
    "\n",
    "graph = StreetNetworkOsmnxGraph(settings)\n",
    "edgelist = EdgeList(graph)\n",
    "#simulation = Simulation(edgelist, simulation_settings)\n",
    "\n",
    "print('finished')\n"
   ]
  },
  {
   "cell_type": "code",
   "execution_count": null,
   "metadata": {},
   "outputs": [],
   "source": [
    "simulation_settings = {\n",
    "    'result_settings': {\n",
    "        'aggregate_functions': [],\n",
    "        'record_drop_info': True,\n",
    "    },\n",
    "    'scenario_params': {\n",
    "        'shape': (1, 4, 8, 12),\n",
    "        'K': (2, 3, 4, 5),\n",
    "        'source_target': ((3910, 2905), (1629, 2195), (4439, 414), (1053, 576), (456, 4022)),\n",
    "        'total_travel': (4000, 8000, 16000, 32000, 64000, 96000),\n",
    "        'drop_interval': (100, 1000, 10000, 100000),\n",
    "        'mode': (0, 1),\n",
    "        'theta': (0.25, 0.33, 0.5),\n",
    "        'algorithm': ('opplus',)\n",
    "    },\n",
    "    'force_fw_calculation': False,\n",
    "    'force_scenarios_calculation': False,\n",
    "}\n",
    "\n",
    "simulation_settings['scenario_params'].update({\n",
    "    'shape': (4,),\n",
    "    'K': (4, 5),\n",
    "    'source_target': ((1053, 576), (456, 4022)),\n",
    "    'total_travel': (32000, 64000),\n",
    "    'drop_interval': (5000, 15000),\n",
    "    'mode': (0,),\n",
    "    'theta': (0.5,),\n",
    "})"
   ]
  },
  {
   "cell_type": "code",
   "execution_count": null,
   "metadata": {},
   "outputs": [],
   "source": [
    "simulation = Simulation(edgelist, simulation_settings)"
   ]
  },
  {
   "cell_type": "code",
   "execution_count": null,
   "metadata": {},
   "outputs": [],
   "source": []
  },
  {
   "cell_type": "code",
   "execution_count": null,
   "metadata": {},
   "outputs": [],
   "source": []
  }
 ],
 "metadata": {
  "kernelspec": {
   "display_name": "Python3 (gps)",
   "language": "python",
   "name": "gps"
  },
  "language_info": {
   "codemirror_mode": {
    "name": "ipython",
    "version": 3
   },
   "file_extension": ".py",
   "mimetype": "text/x-python",
   "name": "python",
   "nbconvert_exporter": "python",
   "pygments_lexer": "ipython3",
   "version": "3.7.3"
  }
 },
 "nbformat": 4,
 "nbformat_minor": 2
}
